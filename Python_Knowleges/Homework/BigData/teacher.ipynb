{
 "cells": [
  {
   "cell_type": "code",
   "execution_count": 5,
   "id": "initial_id",
   "metadata": {
    "collapsed": true,
    "ExecuteTime": {
     "end_time": "2023-12-09T08:49:56.810863Z",
     "start_time": "2023-12-09T08:49:56.790814Z"
    }
   },
   "outputs": [
    {
     "ename": "TypeError",
     "evalue": "reduce() of empty iterable with no initial value",
     "output_type": "error",
     "traceback": [
      "\u001B[0;31m---------------------------------------------------------------------------\u001B[0m",
      "\u001B[0;31mTypeError\u001B[0m                                 Traceback (most recent call last)",
      "Cell \u001B[0;32mIn[5], line 37\u001B[0m\n\u001B[1;32m     33\u001B[0m             M2 \u001B[38;5;241m+\u001B[39m\u001B[38;5;241m=\u001B[39m delta \u001B[38;5;241m*\u001B[39m (score \u001B[38;5;241m-\u001B[39m mean)\n\u001B[1;32m     34\u001B[0m         \u001B[38;5;28;01mreturn\u001B[39;00m n, mean, M2\n\u001B[0;32m---> 37\u001B[0m n, mean, M2 \u001B[38;5;241m=\u001B[39m \u001B[43mreduce\u001B[49m\u001B[43m(\u001B[49m\u001B[43mreducer\u001B[49m\u001B[43m,\u001B[49m\u001B[43m \u001B[49m\u001B[38;5;28;43mmap\u001B[39;49m\u001B[43m(\u001B[49m\u001B[43mmapper\u001B[49m\u001B[43m,\u001B[49m\u001B[43m \u001B[49m\u001B[43mPath\u001B[49m\u001B[43m(\u001B[49m\u001B[38;5;124;43m'\u001B[39;49m\u001B[38;5;124;43mimdb-user-reviews\u001B[39;49m\u001B[38;5;124;43m'\u001B[39;49m\u001B[43m)\u001B[49m\u001B[38;5;241;43m.\u001B[39;49m\u001B[43mglob\u001B[49m\u001B[43m(\u001B[49m\u001B[38;5;124;43m'\u001B[39;49m\u001B[38;5;124;43m**/*\u001B[39;49m\u001B[38;5;124;43m'\u001B[39;49m\u001B[43m)\u001B[49m\u001B[43m)\u001B[49m\u001B[43m)\u001B[49m\n\u001B[1;32m     38\u001B[0m \u001B[38;5;28mprint\u001B[39m(mean, (M2 \u001B[38;5;241m/\u001B[39m n) \u001B[38;5;241m*\u001B[39m\u001B[38;5;241m*\u001B[39m (\u001B[38;5;241m1\u001B[39m\u001B[38;5;241m/\u001B[39m\u001B[38;5;241m2\u001B[39m))\n",
      "\u001B[0;31mTypeError\u001B[0m: reduce() of empty iterable with no initial value"
     ]
    }
   ],
   "source": [
    "import json\n",
    "from pathlib import Path\n",
    "import math\n",
    "from functools import reduce\n",
    "        \n",
    "        \n",
    "def mapper(path):\n",
    "    if path.is_file() and path.suffix == '.json':\n",
    "        with open(path, 'r') as f:\n",
    "            info = json.load(f)\n",
    "        return (float(info['movieIMDbRating']), )\n",
    "\n",
    "\n",
    "def reducer(score_data1, score_data2):\n",
    "    if score_data1 is None and score_data2 is None:\n",
    "        return None\n",
    "    elif score_data1 is None:\n",
    "        return score_data2\n",
    "    elif score_data2 is None:\n",
    "        return score_data1\n",
    "    else:\n",
    "        scores = []\n",
    "        if len(score_data1) == 1:\n",
    "            n, mean, M2 = 0, 0.0, 0\n",
    "            scores.append(score_data1[0])\n",
    "        else:\n",
    "            n, mean, M2 = score_data1\n",
    "        scores.append(score_data2[0])\n",
    "        for score in scores:\n",
    "            n += 1\n",
    "            delta = score - mean\n",
    "            mean += delta / n\n",
    "            M2 += delta * (score - mean)\n",
    "        return n, mean, M2\n",
    "\n",
    "\n",
    "n, mean, M2 = reduce(reducer, map(mapper, Path('imdb-user-reviews').glob('**/*')))\n",
    "print(mean, (M2 / n) ** (1/2))"
   ]
  },
  {
   "cell_type": "code",
   "execution_count": null,
   "outputs": [],
   "source": [],
   "metadata": {
    "collapsed": false
   },
   "id": "40d8467db70112b8"
  }
 ],
 "metadata": {
  "kernelspec": {
   "display_name": "Python 3",
   "language": "python",
   "name": "python3"
  },
  "language_info": {
   "codemirror_mode": {
    "name": "ipython",
    "version": 2
   },
   "file_extension": ".py",
   "mimetype": "text/x-python",
   "name": "python",
   "nbconvert_exporter": "python",
   "pygments_lexer": "ipython2",
   "version": "2.7.6"
  }
 },
 "nbformat": 4,
 "nbformat_minor": 5
}
