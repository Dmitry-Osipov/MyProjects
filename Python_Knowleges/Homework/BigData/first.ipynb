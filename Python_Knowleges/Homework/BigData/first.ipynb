{
 "cells": [
  {
   "cell_type": "code",
   "execution_count": 19,
   "outputs": [
    {
     "name": "stdout",
     "output_type": "stream",
     "text": [
      "1400000\n",
      "1 4 1225 1600 250000\n",
      "madam level\n"
     ]
    }
   ],
   "source": [
    "from functools import reduce\n",
    "\n",
    "numbers = [1, 2, 35, 40, 500]\n",
    "words = ['apple', 'madam', 'level', 'date', 'cherry']\n",
    "\n",
    "def multiply(x, y): return x * y\n",
    "\n",
    "print(reduce(multiply, numbers))  # Применение функции к коллекции\n",
    "\n",
    "def is_palindrome(word): return word == word[::-1]\n",
    "print(*map(lambda x: x ** 2, numbers))  # Применение функции к каждому элементу последовательности\n",
    "\n",
    "print(*filter(is_palindrome, words))  # Фильтрация коллекции с проверкой каждого элемента внутри"
   ],
   "metadata": {
    "collapsed": false,
    "ExecuteTime": {
     "end_time": "2023-12-06T14:49:43.197566Z",
     "start_time": "2023-12-06T14:49:43.182436Z"
    }
   },
   "id": "d84645d3604276cf"
  },
  {
   "cell_type": "code",
   "execution_count": 20,
   "outputs": [
    {
     "name": "stdout",
     "output_type": "stream",
     "text": [
      "1 4 1225 1600 250000\n"
     ]
    }
   ],
   "source": [
    "# Задача 1. map( )\n",
    "# У нас есть список чисел. Мы хотим получить новый список, в котором каждый элемент будет возводиться в квадрат. \n",
    "print(*map(lambda x: x ** 2, numbers))"
   ],
   "metadata": {
    "collapsed": false,
    "ExecuteTime": {
     "end_time": "2023-12-06T14:49:43.198085Z",
     "start_time": "2023-12-06T14:49:43.189355Z"
    }
   },
   "id": "b58d56ee39a89a09"
  },
  {
   "cell_type": "code",
   "execution_count": 21,
   "outputs": [
    {
     "name": "stdout",
     "output_type": "stream",
     "text": [
      "578\n"
     ]
    }
   ],
   "source": [
    "# Задача 2. reduce( )\n",
    "# У нас есть список чисел, и мы хотим получить их сумму.\n",
    "print(reduce(lambda x, y: x + y, numbers))"
   ],
   "metadata": {
    "collapsed": false,
    "ExecuteTime": {
     "end_time": "2023-12-06T14:49:43.198329Z",
     "start_time": "2023-12-06T14:49:43.193157Z"
    }
   },
   "id": "adead08a4a87a2d5"
  },
  {
   "cell_type": "code",
   "execution_count": 23,
   "outputs": [
    {
     "name": "stdout",
     "output_type": "stream",
     "text": [
      "35 40 500\n"
     ]
    }
   ],
   "source": [
    "# Задача 3. filter( )\n",
    "# У нас есть список чисел и мы хотим получить только те, которые больше пяти. \n",
    "print(*filter(lambda x: x > 5, numbers))"
   ],
   "metadata": {
    "collapsed": false,
    "ExecuteTime": {
     "end_time": "2023-12-06T14:50:09.809382Z",
     "start_time": "2023-12-06T14:50:09.790789Z"
    }
   },
   "id": "9e415f9ba2e9d53a"
  },
  {
   "cell_type": "code",
   "execution_count": null,
   "outputs": [],
   "source": [
    "# Домашняя работа\n",
    "# Данные для работы с Kaggle:\n",
    "# {\"username\":\"therealdo\",\"key\":\"6d9e7780d54681d9bce4b5cdb93da4d1\"}\n",
    "\n",
    "# Сделайте mapper и reducer, чтобы посчитать среднее и дисперсию оценок за фильм.\n",
    "# Реализация через цикл (предпогаем, что мы не знаем сколько у нас фильмов):\n",
    "import json\n",
    "\n",
    "\n",
    "n, mean, M2 = 0, 0.0, 0\n",
    "for path in Path('imdb-user-reviews').glob('**/*'):\n",
    "    if path.is_file() and path.suffix == '.json':\n",
    "        with open(path, 'r') as f:\n",
    "            info = json.load(f)\n",
    "        score = float(info['movieIMDbRating'])\n",
    "        n += 1\n",
    "        delta = score - mean\n",
    "        mean += delta / n\n",
    "        M2 += delta * (score - mean)\n",
    "\n",
    "print(mean, (M2 / n) ** (1/2))\n",
    "\n",
    "# На основе этого кода соберите mapper и reducer:\n",
    "def mapper(path):\n",
    "    # Ваш код\n",
    "    with open(path, 'r') as f:\n",
    "      info = json.load(f)\n",
    "    score = float(info['movieIMDbRating'])\n",
    "    return (1, score, score ** 2)\n",
    "\n",
    "\n",
    "def reducer(score_data1, score_data2):\n",
    "    #  Ваш код\n",
    "    n1, mean1, M2_1 = score_data1\n",
    "    n2, mean2, M2_2 = score_data2\n",
    "\n",
    "    delta = mean2 - mean1\n",
    "    mean = (n1 * mean1 + n2 * mean2) / (n1 + n2)\n",
    "    M2 = M2_1 + M2_2 + delta ** 2 * n1 * n2 / (n1 + n2)\n",
    "    return n1 + n2, mean, M2\n",
    "\n",
    "%%time\n",
    "n, mean, M2 = reduce(reducer, map(mapper, Path('imdb-user-reviews').rglob('*.json')))\n",
    "print(mean, (M2 / n) ** (1/2))"
   ],
   "metadata": {
    "collapsed": false
   },
   "id": "421c56bb5fee2763"
  }
 ],
 "metadata": {
  "kernelspec": {
   "display_name": "Python 3",
   "language": "python",
   "name": "python3"
  },
  "language_info": {
   "codemirror_mode": {
    "name": "ipython",
    "version": 2
   },
   "file_extension": ".py",
   "mimetype": "text/x-python",
   "name": "python",
   "nbconvert_exporter": "python",
   "pygments_lexer": "ipython2",
   "version": "2.7.6"
  }
 },
 "nbformat": 4,
 "nbformat_minor": 5
}
